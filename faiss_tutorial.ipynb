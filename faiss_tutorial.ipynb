{
 "cells": [
  {
   "cell_type": "code",
   "id": "initial_id",
   "metadata": {
    "collapsed": true,
    "ExecuteTime": {
     "end_time": "2025-07-20T20:37:25.028495Z",
     "start_time": "2025-07-20T20:37:25.019705Z"
    }
   },
   "source": [
    "import pandas as pd\n",
    "df = pd.read_csv('data/sample_text.csv')"
   ],
   "outputs": [],
   "execution_count": 17
  },
  {
   "metadata": {
    "ExecuteTime": {
     "end_time": "2025-07-20T20:37:25.326746Z",
     "start_time": "2025-07-20T20:37:25.314897Z"
    }
   },
   "cell_type": "code",
   "source": [
    "len(df)\n",
    "df.shape"
   ],
   "id": "e9c7980966a9e702",
   "outputs": [
    {
     "data": {
      "text/plain": [
       "(8, 2)"
      ]
     },
     "execution_count": 18,
     "metadata": {},
     "output_type": "execute_result"
    }
   ],
   "execution_count": 18
  },
  {
   "metadata": {
    "ExecuteTime": {
     "end_time": "2025-07-20T20:37:30.091662Z",
     "start_time": "2025-07-20T20:37:25.531871Z"
    }
   },
   "cell_type": "code",
   "source": [
    "#now the sentences in df needs to be converted into vectors/embeddings using sentece tranformers\n",
    "from sentence_transformers import SentenceTransformer\n",
    "encoder = SentenceTransformer(\"all-mpnet-base-v2\")\n",
    "vectors = encoder.encode(df.text)\n"
   ],
   "id": "c1c01a2709b9c376",
   "outputs": [],
   "execution_count": 19
  },
  {
   "metadata": {
    "ExecuteTime": {
     "end_time": "2025-07-20T20:37:30.107088Z",
     "start_time": "2025-07-20T20:37:30.100990Z"
    }
   },
   "cell_type": "code",
   "source": "vectors.shape",
   "id": "7e6f6faa9df70a7c",
   "outputs": [
    {
     "data": {
      "text/plain": [
       "(8, 768)"
      ]
     },
     "execution_count": 20,
     "metadata": {},
     "output_type": "execute_result"
    }
   ],
   "execution_count": 20
  },
  {
   "metadata": {
    "ExecuteTime": {
     "end_time": "2025-07-20T20:37:30.124919Z",
     "start_time": "2025-07-20T20:37:30.119996Z"
    }
   },
   "cell_type": "code",
   "source": [
    "dim = vectors.shape[1]\n",
    "dim"
   ],
   "id": "d0433d01a45c910a",
   "outputs": [
    {
     "data": {
      "text/plain": [
       "768"
      ]
     },
     "execution_count": 21,
     "metadata": {},
     "output_type": "execute_result"
    }
   ],
   "execution_count": 21
  },
  {
   "metadata": {
    "ExecuteTime": {
     "end_time": "2025-07-20T20:37:30.133731Z",
     "start_time": "2025-07-20T20:37:30.129155Z"
    }
   },
   "cell_type": "code",
   "source": [
    "import faiss\n",
    "\n",
    "index = faiss.IndexFlatL2(dim)\n",
    "index\n",
    "# here index of 768 size got created now will append our vectors in this as each vector is of size 768 so idnex of size 768 can hold them\n",
    "#it is using L2 distsnce so that from the store databse with the query embedding it will find the L2 disatnce and then tell which oen is similar another point is when we are adding this vectors to faiss index it  is created a data structure easily which will help in fatsre search\n",
    "index.add(vectors)"
   ],
   "id": "d5adb3036162fa55",
   "outputs": [],
   "execution_count": 22
  },
  {
   "metadata": {
    "ExecuteTime": {
     "end_time": "2025-07-20T20:37:48.451390Z",
     "start_time": "2025-07-20T20:37:48.381394Z"
    }
   },
   "cell_type": "code",
   "source": [
    "squery = \" i want to buy a polo t-shirt\"\n",
    "svector = encoder.encode(squery)\n",
    "svector.shape\n"
   ],
   "id": "890dc1cea6889de7",
   "outputs": [
    {
     "data": {
      "text/plain": [
       "(768,)"
      ]
     },
     "execution_count": 25,
     "metadata": {},
     "output_type": "execute_result"
    }
   ],
   "execution_count": 25
  },
  {
   "metadata": {
    "ExecuteTime": {
     "end_time": "2025-07-20T20:40:14.429190Z",
     "start_time": "2025-07-20T20:40:14.416875Z"
    }
   },
   "cell_type": "code",
   "source": [
    "#as svector is 1 d array but to serach in faiss we need 2d array so will conevrt\n",
    "import numpy as np\n",
    "svec =np.array(svector).reshape(1,-1)\n",
    "svec.shape"
   ],
   "id": "d5695922482f4290",
   "outputs": [
    {
     "data": {
      "text/plain": [
       "(1, 768)"
      ]
     },
     "execution_count": 26,
     "metadata": {},
     "output_type": "execute_result"
    }
   ],
   "execution_count": 26
  },
  {
   "metadata": {
    "ExecuteTime": {
     "end_time": "2025-07-20T20:43:44.024188Z",
     "start_time": "2025-07-20T20:43:44.020660Z"
    }
   },
   "cell_type": "code",
   "source": [
    "# how many similar evctros we want we can tell from teh index database it will return tuple where first one is the distances and second one is the index in the DB\n",
    "distances ,i =index.search(svec, k =2)"
   ],
   "id": "db4ce2479636d279",
   "outputs": [],
   "execution_count": 29
  },
  {
   "metadata": {
    "ExecuteTime": {
     "end_time": "2025-07-20T20:44:18.929903Z",
     "start_time": "2025-07-20T20:44:18.918877Z"
    }
   },
   "cell_type": "code",
   "source": "i",
   "id": "22ba89ecd2acd697",
   "outputs": [
    {
     "data": {
      "text/plain": [
       "array([[3, 2]], dtype=int64)"
      ]
     },
     "execution_count": 30,
     "metadata": {},
     "output_type": "execute_result"
    }
   ],
   "execution_count": 30
  },
  {
   "metadata": {
    "ExecuteTime": {
     "end_time": "2025-07-20T20:44:34.650842Z",
     "start_time": "2025-07-20T20:44:34.639671Z"
    }
   },
   "cell_type": "code",
   "source": "df.loc[[3,2]]",
   "id": "a8b6c3d1c443c7e1",
   "outputs": [
    {
     "data": {
      "text/plain": [
       "                                                text category\n",
       "3  Vibrant color jeans for male are becoming a trend  Fashion\n",
       "2  These are the latest fashion trends for this week  Fashion"
      ],
      "text/html": [
       "<div>\n",
       "<style scoped>\n",
       "    .dataframe tbody tr th:only-of-type {\n",
       "        vertical-align: middle;\n",
       "    }\n",
       "\n",
       "    .dataframe tbody tr th {\n",
       "        vertical-align: top;\n",
       "    }\n",
       "\n",
       "    .dataframe thead th {\n",
       "        text-align: right;\n",
       "    }\n",
       "</style>\n",
       "<table border=\"1\" class=\"dataframe\">\n",
       "  <thead>\n",
       "    <tr style=\"text-align: right;\">\n",
       "      <th></th>\n",
       "      <th>text</th>\n",
       "      <th>category</th>\n",
       "    </tr>\n",
       "  </thead>\n",
       "  <tbody>\n",
       "    <tr>\n",
       "      <th>3</th>\n",
       "      <td>Vibrant color jeans for male are becoming a trend</td>\n",
       "      <td>Fashion</td>\n",
       "    </tr>\n",
       "    <tr>\n",
       "      <th>2</th>\n",
       "      <td>These are the latest fashion trends for this week</td>\n",
       "      <td>Fashion</td>\n",
       "    </tr>\n",
       "  </tbody>\n",
       "</table>\n",
       "</div>"
      ]
     },
     "execution_count": 31,
     "metadata": {},
     "output_type": "execute_result"
    }
   ],
   "execution_count": 31
  },
  {
   "metadata": {},
   "cell_type": "code",
   "outputs": [],
   "execution_count": null,
   "source": "#so faiss will do semantic serach not the keyword search i.e it will search the meaning of the sentence\n",
   "id": "c9976755bc8b519"
  }
 ],
 "metadata": {
  "kernelspec": {
   "display_name": "Python 3",
   "language": "python",
   "name": "python3"
  },
  "language_info": {
   "codemirror_mode": {
    "name": "ipython",
    "version": 2
   },
   "file_extension": ".py",
   "mimetype": "text/x-python",
   "name": "python",
   "nbconvert_exporter": "python",
   "pygments_lexer": "ipython2",
   "version": "2.7.6"
  }
 },
 "nbformat": 4,
 "nbformat_minor": 5
}
