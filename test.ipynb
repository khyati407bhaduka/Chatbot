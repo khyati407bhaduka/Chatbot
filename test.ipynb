{
 "cells": [
  {
   "cell_type": "code",
   "id": "initial_id",
   "metadata": {
    "collapsed": true,
    "ExecuteTime": {
     "end_time": "2025-07-20T18:41:47.817899Z",
     "start_time": "2025-07-20T18:41:47.805929Z"
    }
   },
   "source": [
    "from langchain.document_loaders import TextLoader #tectloader allows to load data from different text file\n",
    "from psutil import cpu_times\n",
    "from transformers.processing_utils import transformers_module\n",
    "\n",
    "loader = TextLoader(\"data/nvda_news_1.txt\")\n",
    "data = loader.load()\n",
    "print(data[0].metadata)\n",
    "print(type(loader))\n",
    "loader.file_path"
   ],
   "outputs": [
    {
     "name": "stdout",
     "output_type": "stream",
     "text": [
      "{'source': 'data/nvda_news_1.txt'}\n",
      "<class 'langchain_community.document_loaders.text.TextLoader'>\n"
     ]
    },
    {
     "data": {
      "text/plain": [
       "'data/nvda_news_1.txt'"
      ]
     },
     "execution_count": 16,
     "metadata": {},
     "output_type": "execute_result"
    }
   ],
   "execution_count": 16
  },
  {
   "metadata": {
    "ExecuteTime": {
     "end_time": "2025-07-20T18:36:30.260732Z",
     "start_time": "2025-07-20T18:36:30.241279Z"
    }
   },
   "cell_type": "code",
   "source": [
    "from langchain.document_loaders import UnstructuredURLLoader\n",
    "loader = UnstructuredURLLoader([\n",
    "    \"https://www.moneycontrol.com/news/business/banks/hdfc-bank-re-appoints-sanmoy-chakrabarti-as-chief-risk-officer-11259771.html\",\n",
    "    \"https://www.moneycontrol.com/news/business/markets/market-corrects-post-rbi-ups-inflation-forecast-icrr-bet-on-these-top-10-rate-sensitive-stocks-ideas-11142611.html\"\n",
    "])"
   ],
   "id": "9ab650261a3a8596",
   "outputs": [],
   "execution_count": 8
  },
  {
   "metadata": {
    "ExecuteTime": {
     "end_time": "2025-07-20T18:40:26.758605Z",
     "start_time": "2025-07-20T18:40:25.254295Z"
    }
   },
   "cell_type": "code",
   "source": [
    "data_1 = loader.load()\n",
    "len(data_1)"
   ],
   "id": "63a098fb297c99c6",
   "outputs": [
    {
     "data": {
      "text/plain": [
       "2"
      ]
     },
     "execution_count": 13,
     "metadata": {},
     "output_type": "execute_result"
    }
   ],
   "execution_count": 13
  },
  {
   "metadata": {
    "ExecuteTime": {
     "end_time": "2025-07-20T18:42:21.697143Z",
     "start_time": "2025-07-20T18:42:21.692769Z"
    }
   },
   "cell_type": "code",
   "source": "data_1[0].metadata",
   "id": "301defee1b10d401",
   "outputs": [
    {
     "data": {
      "text/plain": [
       "{'source': 'https://www.moneycontrol.com/news/business/banks/hdfc-bank-re-appoints-sanmoy-chakrabarti-as-chief-risk-officer-11259771.html'}"
      ]
     },
     "execution_count": 19,
     "metadata": {},
     "output_type": "execute_result"
    }
   ],
   "execution_count": 19
  },
  {
   "metadata": {
    "ExecuteTime": {
     "end_time": "2025-07-20T19:01:21.391888Z",
     "start_time": "2025-07-20T19:01:21.382630Z"
    }
   },
   "cell_type": "code",
   "source": [
    "#splitting of text will be done now because a bigger text needs to be splitted into smaller chunks as they is cost associated for calling open ai first huge text data can be splitted and then merging operation can be performed so that if some chunks are there with smaller chunk size will get merge so they bith come near to the limit and thus effiency wil get increased by decreasing the number of chunks opelapping of chnks should also be done so that the next chunk will have some context of previous chunk as well and it make serahcing more error prone\n",
    " # so spliiuted can be done using slice operator as well but doing like that may cut words in between so we will use langchain text splitter class for the same\n",
    "\n",
    "\n",
    "text = \"\"\"Interstellar is a 2014 epic science fiction film co-written, directed, and produced by Christopher Nolan. It stars Matthew McConaughey, Anne Hathaway, Jessica Chastain, Bill Irwin, Ellen Burstyn, Matt Damon, and Michael Caine. Set in a dystopian future where humanity is embroiled in a catastrophic blight and famine, the film follows a group of astronauts who travel through a wormhole near Saturn in search of a new home for humankind.\n",
    "Brothers Christopher and Jonathan Nolan wrote the screenplay, which had its origins in a script Jonathan developed in 2007 and was originally set to be directed by Steven Spielberg.\n",
    "Kip Thorne, a Caltech theoretical physicist and 2017 Nobel laureate in Physics,[4] was an executive producer, acted as a scientific consultant, and wrote a tie-in book, The Science of Interstellar.\n",
    "Cinematographer Hoyte van Hoytema shot it on 35 mm movie film in the Panavision anamorphic format and IMAX 70 mm. Principal photography began in late 2013 and took place in Alberta, Iceland, and Los Angeles.\n",
    "Interstellar uses extensive practical and miniature effects, and the company Double Negative created additional digital effects.\n",
    "\n",
    "Interstellar premiered in Los Angeles on October 26, 2014. In the United States, it was first released on film stock, expanding to venues using digital projectors. The film received generally positive reviews from critics and grossed over $677 million worldwide ($715 million after subsequent re-releases), making it the tenth-highest-grossing film of 2014.\n",
    "It has been praised by astronomers for its scientific accuracy and portrayal of theoretical astrophysics.[5][6][7] Interstellar was nominated for five awards at the 87th Academy Awards, winning Best Visual Effects, and received numerous other accolades.\"\"\"\n",
    "\n",
    "\n",
    "\n"
   ],
   "id": "fd6b46971f47f367",
   "outputs": [],
   "execution_count": 22
  },
  {
   "metadata": {
    "ExecuteTime": {
     "end_time": "2025-07-20T19:03:38.836111Z",
     "start_time": "2025-07-20T19:03:38.826910Z"
    }
   },
   "cell_type": "code",
   "source": [
    "from langchain_text_splitters import CharacterTextSplitter\n",
    "splitter = CharacterTextSplitter ( separator= \"\\n\",\n",
    "                                   chunk_size= 200,\n",
    "                                   chunk_overlap=0\n",
    ")\n",
    "\n",
    "chunks = splitter.split_text(text)\n",
    "len(chunks)"
   ],
   "id": "557306224dabd5b",
   "outputs": [
    {
     "name": "stderr",
     "output_type": "stream",
     "text": [
      "Created a chunk of size 437, which is longer than the specified 200\n",
      "Created a chunk of size 208, which is longer than the specified 200\n",
      "Created a chunk of size 358, which is longer than the specified 200\n"
     ]
    },
    {
     "data": {
      "text/plain": [
       "7"
      ]
     },
     "execution_count": 24,
     "metadata": {},
     "output_type": "execute_result"
    }
   ],
   "execution_count": 24
  },
  {
   "metadata": {
    "ExecuteTime": {
     "end_time": "2025-07-20T19:04:19.424314Z",
     "start_time": "2025-07-20T19:04:19.420318Z"
    }
   },
   "cell_type": "code",
   "source": [
    "for chunk in chunks:\n",
    "    print(len(chunk)) # here some of the chunks are of more size then 200 so we can use recursivetrext spliiter as character split will not work good everytime recursive text spluitter we will give a list of splitters os that text will get break with the first splitter then after splitting by this it will see the size of individual chunks if it is more then 200 then it will use second splitter like this\n"
   ],
   "id": "7b444b890fccac9a",
   "outputs": [
    {
     "name": "stdout",
     "output_type": "stream",
     "text": [
      "437\n",
      "181\n",
      "197\n",
      "207\n",
      "128\n",
      "357\n",
      "253\n"
     ]
    }
   ],
   "execution_count": 26
  },
  {
   "metadata": {
    "ExecuteTime": {
     "end_time": "2025-07-20T20:36:08.178221Z",
     "start_time": "2025-07-20T20:36:08.166341Z"
    }
   },
   "cell_type": "code",
   "source": [
    "from langchain.text_splitter import RecursiveCharacterTextSplitter\n",
    "r_splitter = RecursiveCharacterTextSplitter (separators= [\"\\n\\n\",\"\\n\",\".\",\"?\"],\n",
    "                                   chunk_size= 200,\n",
    "                                   chunk_overlap=0\n",
    ")\n",
    "\n",
    "chunks = r_splitter.split_text(text)\n",
    "print(len(chunks))\n",
    "for chunk in chunks:\n",
    "    print(len(chunk))\n",
    "    print(chunk)"
   ],
   "id": "be12321c5d79f571",
   "outputs": [
    {
     "name": "stdout",
     "output_type": "stream",
     "text": [
      "13\n",
      "104\n",
      "Interstellar is a 2014 epic science fiction film co-written, directed, and produced by Christopher Nolan\n",
      "121\n",
      ". It stars Matthew McConaughey, Anne Hathaway, Jessica Chastain, Bill Irwin, Ellen Burstyn, Matt Damon, and Michael Caine\n",
      "211\n",
      ". Set in a dystopian future where humanity is embroiled in a catastrophic blight and famine, the film follows a group of astronauts who travel through a wormhole near Saturn in search of a new home for humankind\n",
      "1\n",
      ".\n",
      "181\n",
      "Brothers Christopher and Jonathan Nolan wrote the screenplay, which had its origins in a script Jonathan developed in 2007 and was originally set to be directed by Steven Spielberg.\n",
      "197\n",
      "Kip Thorne, a Caltech theoretical physicist and 2017 Nobel laureate in Physics,[4] was an executive producer, acted as a scientific consultant, and wrote a tie-in book, The Science of Interstellar.\n",
      "112\n",
      "Cinematographer Hoyte van Hoytema shot it on 35 mm movie film in the Panavision anamorphic format and IMAX 70 mm\n",
      "95\n",
      ". Principal photography began in late 2013 and took place in Alberta, Iceland, and Los Angeles.\n",
      "128\n",
      "Interstellar uses extensive practical and miniature effects, and the company Double Negative created additional digital effects.\n",
      "162\n",
      "Interstellar premiered in Los Angeles on October 26, 2014. In the United States, it was first released on film stock, expanding to venues using digital projectors\n",
      "195\n",
      ". The film received generally positive reviews from critics and grossed over $677 million worldwide ($715 million after subsequent re-releases), making it the tenth-highest-grossing film of 2014.\n",
      "104\n",
      "It has been praised by astronomers for its scientific accuracy and portrayal of theoretical astrophysics\n",
      "149\n",
      ".[5][6][7] Interstellar was nominated for five awards at the 87th Academy Awards, winning Best Visual Effects, and received numerous other accolades.\n"
     ]
    }
   ],
   "execution_count": 40
  },
  {
   "metadata": {
    "ExecuteTime": {
     "end_time": "2025-07-20T19:22:28.153123Z",
     "start_time": "2025-07-20T19:22:28.142542Z"
    }
   },
   "cell_type": "code",
   "source": [
    "#if some chunk size is more than 200 then it will split accordingly like 210 then 200 chunk 1 10 chunk 2 like this\n",
    "#now text splitting is done now vector database to store the chunks and the vector DB used here is faiss )facebook Ai similarity serach) this is a library which allows us to do faster serach into the set of vector which u have\n",
    "\n",
    "# first the chunks obtained from text splitter will be converted into embeddings and then\n",
    "#second these embeddings will be stored in a vector DB here its faiss index so this library will have all the embeddings\n",
    "#as soon as into questions come on the bot UI will convert that question also into embeddings and then give to faiss\n",
    "#fourth then faiss will perform a vector serach and serach what all embeddings matched with the query embedding and give those vectors\n"
   ],
   "id": "d5f4cdc7fb84facc",
   "outputs": [],
   "execution_count": 37
  },
  {
   "metadata": {},
   "cell_type": "code",
   "outputs": [],
   "execution_count": null,
   "source": [
    "#next part after vector DB is retrival Q N A with source chain here the relevant chunks will be fetched from teh vectordb using faiss now after getting the chunks will feed those chunks in llm prompt and then ftell teh prompt to find out the answer of question asked using teh below share cunks using this it will solve the problem of cost and save time as well\n",
    "# this method of combining chunks and given in prompt is called stuff method here the drawback is in case we got many relevant chunks then giving those chunks in prompt will excced the word limit\n",
    "#so the better approch then stuff method is the map reduce method in this method each chunk will be passed to LLM one by onemeans 4 LLM call and then 4 ansswers will be there and then we can use the final llm call and combine the answer but this method also has drawback like many LLM calls are there"
   ],
   "id": "f9ae8558b4c77990"
  },
  {
   "metadata": {},
   "cell_type": "code",
   "outputs": [],
   "execution_count": null,
   "source": "",
   "id": "bd1532677c12796c"
  },
  {
   "metadata": {},
   "cell_type": "code",
   "outputs": [],
   "execution_count": null,
   "source": "",
   "id": "f1b404ecbef4956e"
  },
  {
   "metadata": {},
   "cell_type": "code",
   "outputs": [],
   "execution_count": null,
   "source": "",
   "id": "6acfb4018f890624"
  },
  {
   "metadata": {},
   "cell_type": "code",
   "outputs": [],
   "execution_count": null,
   "source": "",
   "id": "ff9e91d35e5d92ad"
  },
  {
   "metadata": {},
   "cell_type": "code",
   "outputs": [],
   "execution_count": null,
   "source": "",
   "id": "ea7f03fcf1949ed6"
  },
  {
   "metadata": {},
   "cell_type": "code",
   "outputs": [],
   "execution_count": null,
   "source": "",
   "id": "8a8a2a2551daa8e9"
  },
  {
   "metadata": {},
   "cell_type": "code",
   "outputs": [],
   "execution_count": null,
   "source": "",
   "id": "e27e3090b14882f9"
  },
  {
   "metadata": {},
   "cell_type": "code",
   "outputs": [],
   "execution_count": null,
   "source": "",
   "id": "2c10ecf0aad286eb"
  },
  {
   "metadata": {},
   "cell_type": "code",
   "outputs": [],
   "execution_count": null,
   "source": "",
   "id": "5ab5b30456d430e"
  },
  {
   "metadata": {},
   "cell_type": "code",
   "outputs": [],
   "execution_count": null,
   "source": "",
   "id": "785580615a8589b3"
  },
  {
   "metadata": {},
   "cell_type": "code",
   "outputs": [],
   "execution_count": null,
   "source": "",
   "id": "1f46ab5edea4970a"
  },
  {
   "metadata": {},
   "cell_type": "code",
   "outputs": [],
   "execution_count": null,
   "source": "",
   "id": "b454efa628d34769"
  },
  {
   "metadata": {},
   "cell_type": "code",
   "outputs": [],
   "execution_count": null,
   "source": "",
   "id": "c28b69ab93a28cf6"
  }
 ],
 "metadata": {
  "kernelspec": {
   "display_name": "Python 3",
   "language": "python",
   "name": "python3"
  },
  "language_info": {
   "codemirror_mode": {
    "name": "ipython",
    "version": 2
   },
   "file_extension": ".py",
   "mimetype": "text/x-python",
   "name": "python",
   "nbconvert_exporter": "python",
   "pygments_lexer": "ipython2",
   "version": "2.7.6"
  }
 },
 "nbformat": 4,
 "nbformat_minor": 5
}
